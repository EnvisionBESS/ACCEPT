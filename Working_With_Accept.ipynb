{
 "cells": [
  {
   "cell_type": "markdown",
   "id": "a8f786fc-bb11-4360-b7ce-788026ecc46e",
   "metadata": {},
   "source": [
    "# Using ACCEPT For Inference"
   ]
  },
  {
   "cell_type": "code",
   "execution_count": 1,
   "id": "a0d54086-ce60-4f8a-a160-ccbda2d1800a",
   "metadata": {},
   "outputs": [],
   "source": [
    "import pandas as pd\n",
    "import numpy as np\n",
    "import json"
   ]
  },
  {
   "cell_type": "code",
   "execution_count": 2,
   "id": "80577d0c",
   "metadata": {},
   "outputs": [
    {
     "name": "stderr",
     "output_type": "stream",
     "text": [
      "/Users/jamessadler/Library/Python/3.9/lib/python/site-packages/urllib3/__init__.py:35: NotOpenSSLWarning: urllib3 v2 only supports OpenSSL 1.1.1+, currently the 'ssl' module is compiled with 'LibreSSL 2.8.3'. See: https://github.com/urllib3/urllib3/issues/3020\n",
      "  warnings.warn(\n"
     ]
    }
   ],
   "source": [
    "from accept import ACCEPT"
   ]
  },
  {
   "cell_type": "code",
   "execution_count": 3,
   "id": "824a4e95-70c7-4478-93a4-ffb990412ae4",
   "metadata": {},
   "outputs": [],
   "source": [
    "from pytorch_forecasting.data import TimeSeriesDataSet\n",
    "import torch"
   ]
  },
  {
   "cell_type": "code",
   "execution_count": 4,
   "id": "116ecbda-0079-4ce5-b86c-47585f094e46",
   "metadata": {},
   "outputs": [],
   "source": [
    "# we want to pad all physically generated curves up to 2400 cycles\n",
    "PHYSICAL_SEQ_LEN = 2400"
   ]
  },
  {
   "cell_type": "markdown",
   "id": "391877d1-7b2e-49be-95aa-559b514339a0",
   "metadata": {},
   "source": [
    "## Dataset"
   ]
  },
  {
   "cell_type": "markdown",
   "id": "3178a3d5-a9f4-4d08-bb3e-45b68f9a1980",
   "metadata": {},
   "source": [
    "Need to remove the need for this part "
   ]
  },
  {
   "cell_type": "code",
   "execution_count": 5,
   "id": "b654255e-a783-4077-8cd2-e4cdc3163c16",
   "metadata": {},
   "outputs": [],
   "source": [
    "df_operational = pd.read_csv('data/TrainingV2.csv', index_col = 0)"
   ]
  },
  {
   "cell_type": "code",
   "execution_count": 6,
   "id": "b741239f-bd47-46f0-aeb6-f6b5be03d09c",
   "metadata": {},
   "outputs": [],
   "source": [
    "df_operational = df_operational[~df_operational.Battery.isin(['b_1P45C', 'b_1P25C', 'b_05P25C'])]"
   ]
  },
  {
   "cell_type": "code",
   "execution_count": 7,
   "id": "a31f7f76-ba18-4d94-b91d-39401ac270aa",
   "metadata": {},
   "outputs": [],
   "source": [
    "batch_size = 32 # want large to increase negative contrast, but too large will destroy RAM\n",
    "min_encoder_length = 100\n",
    "max_encoder_length = 2000\n",
    "min_prediction_length = 100\n",
    "max_prediction_length = 100"
   ]
  },
  {
   "cell_type": "code",
   "execution_count": 8,
   "id": "7b39387b-f1a2-4be0-ab18-71a9d5dec877",
   "metadata": {},
   "outputs": [],
   "source": [
    "df_operational.dropna(inplace = True)\n",
    "\n",
    "\n"
   ]
  },
  {
   "cell_type": "code",
   "execution_count": 9,
   "id": "ec6f14cc-27d1-4aee-8127-2efc2d596c9f",
   "metadata": {},
   "outputs": [],
   "source": [
    "test_cells = np.array(['b1c_1_43', 'b1c_1_1', 'b1c_0_38', 'b1c_3_5', 'b1c_1_17', 'b1c_1_24', 'b1c_1_36','b1c_0_12', 'b1c_0_10'])\n",
    "train_cells = np.setdiff1d(df_operational.Battery.unique(), np.concatenate([test_cells]))"
   ]
  },
  {
   "cell_type": "code",
   "execution_count": 10,
   "id": "c0a7a850-5021-4038-a3d2-8961f8f7b36c",
   "metadata": {},
   "outputs": [],
   "source": [
    "train_df = df_operational[df_operational['Battery'].isin(train_cells)]\n",
    "test_df = df_operational[df_operational['Battery'].isin(test_cells)]"
   ]
  },
  {
   "cell_type": "code",
   "execution_count": 11,
   "id": "944fd8ae-4f23-4974-a65f-7e8e0954b40a",
   "metadata": {},
   "outputs": [
    {
     "name": "stderr",
     "output_type": "stream",
     "text": [
      "/Users/jamessadler/Library/Python/3.9/lib/python/site-packages/pytorch_forecasting/data/timeseries.py:1281: UserWarning: Min encoder length and/or min_prediction_idx and/or min prediction length and/or lags are too large for 2 series/groups which therefore are not present in the dataset index. This means no predictions can be made for those series. First 10 removed groups: [{'__group_id__Battery': 'b1c_0_37'}, {'__group_id__Battery': 'b1c_3_1'}]\n",
      "  warnings.warn(\n"
     ]
    }
   ],
   "source": [
    "training_op = TimeSeriesDataSet(\n",
    "    train_df,\n",
    "    time_idx=\"Cycle\",\n",
    "    target=\"QD_Target\",\n",
    "    group_ids=[\"Battery\"],\n",
    "    static_categoricals = ['Type'],\n",
    "    static_reals = ['Capacity'],\n",
    "    min_encoder_length=min_encoder_length,  # keep encoder length long (as it is in the validation set)\n",
    "    max_encoder_length=max_encoder_length,\n",
    "    min_prediction_length=min_prediction_length,\n",
    "    max_prediction_length=max_prediction_length,\n",
    "    time_varying_unknown_categoricals=[],\n",
    "    time_varying_unknown_reals=df_operational.iloc[:, 2:-4].columns.to_list(),\n",
    "    add_relative_time_idx=True,\n",
    "    add_target_scales=False,\n",
    "    add_encoder_length=False,\n",
    "    allow_missing_timesteps = True\n",
    ")"
   ]
  },
  {
   "cell_type": "markdown",
   "id": "1a38510a-cadc-4312-83b4-ae9b52b240de",
   "metadata": {},
   "source": [
    "## Mappings and List of Physical Curves"
   ]
  },
  {
   "cell_type": "code",
   "execution_count": 12,
   "id": "6e9f3181-4b88-49bb-b3d9-c124912b79e0",
   "metadata": {},
   "outputs": [],
   "source": [
    "df_physical = pd.read_csv('data/gen_curves.csv', index_col = 0)"
   ]
  },
  {
   "cell_type": "code",
   "execution_count": 13,
   "id": "7cb8fdd1-2738-4c06-8b1e-510fc6ddf30d",
   "metadata": {},
   "outputs": [
    {
     "data": {
      "text/html": [
       "<div>\n",
       "<style scoped>\n",
       "    .dataframe tbody tr th:only-of-type {\n",
       "        vertical-align: middle;\n",
       "    }\n",
       "\n",
       "    .dataframe tbody tr th {\n",
       "        vertical-align: top;\n",
       "    }\n",
       "\n",
       "    .dataframe thead th {\n",
       "        text-align: right;\n",
       "    }\n",
       "</style>\n",
       "<table border=\"1\" class=\"dataframe\">\n",
       "  <thead>\n",
       "    <tr style=\"text-align: right;\">\n",
       "      <th></th>\n",
       "      <th>Cycle</th>\n",
       "      <th>cell_1</th>\n",
       "      <th>cell_2</th>\n",
       "      <th>cell_5</th>\n",
       "      <th>cell_7</th>\n",
       "      <th>cell_8</th>\n",
       "      <th>cell_10</th>\n",
       "      <th>cell_11</th>\n",
       "      <th>cell_12</th>\n",
       "      <th>cell_13</th>\n",
       "      <th>...</th>\n",
       "      <th>cell_9955</th>\n",
       "      <th>cell_9959</th>\n",
       "      <th>cell_9960</th>\n",
       "      <th>cell_9965</th>\n",
       "      <th>cell_9968</th>\n",
       "      <th>cell_9975</th>\n",
       "      <th>cell_9977</th>\n",
       "      <th>cell_9984</th>\n",
       "      <th>cell_9985</th>\n",
       "      <th>cell_9988</th>\n",
       "    </tr>\n",
       "  </thead>\n",
       "  <tbody>\n",
       "    <tr>\n",
       "      <th>0</th>\n",
       "      <td>1</td>\n",
       "      <td>99.607672</td>\n",
       "      <td>99.484639</td>\n",
       "      <td>98.947794</td>\n",
       "      <td>99.612444</td>\n",
       "      <td>99.392467</td>\n",
       "      <td>99.341443</td>\n",
       "      <td>99.660718</td>\n",
       "      <td>99.031591</td>\n",
       "      <td>99.335847</td>\n",
       "      <td>...</td>\n",
       "      <td>99.659415</td>\n",
       "      <td>99.302792</td>\n",
       "      <td>99.660961</td>\n",
       "      <td>99.724218</td>\n",
       "      <td>99.469678</td>\n",
       "      <td>99.401052</td>\n",
       "      <td>99.448940</td>\n",
       "      <td>99.707820</td>\n",
       "      <td>99.242798</td>\n",
       "      <td>99.060282</td>\n",
       "    </tr>\n",
       "    <tr>\n",
       "      <th>1</th>\n",
       "      <td>2</td>\n",
       "      <td>99.688508</td>\n",
       "      <td>99.751377</td>\n",
       "      <td>98.911719</td>\n",
       "      <td>99.701216</td>\n",
       "      <td>99.572856</td>\n",
       "      <td>99.344383</td>\n",
       "      <td>99.781588</td>\n",
       "      <td>99.028332</td>\n",
       "      <td>99.532882</td>\n",
       "      <td>...</td>\n",
       "      <td>99.771815</td>\n",
       "      <td>99.512837</td>\n",
       "      <td>99.753045</td>\n",
       "      <td>99.794658</td>\n",
       "      <td>99.511943</td>\n",
       "      <td>99.616646</td>\n",
       "      <td>99.557055</td>\n",
       "      <td>99.730659</td>\n",
       "      <td>99.533491</td>\n",
       "      <td>99.413587</td>\n",
       "    </tr>\n",
       "    <tr>\n",
       "      <th>2</th>\n",
       "      <td>3</td>\n",
       "      <td>99.741355</td>\n",
       "      <td>99.837514</td>\n",
       "      <td>99.161672</td>\n",
       "      <td>99.755267</td>\n",
       "      <td>99.634020</td>\n",
       "      <td>99.516591</td>\n",
       "      <td>99.800258</td>\n",
       "      <td>99.049357</td>\n",
       "      <td>99.667452</td>\n",
       "      <td>...</td>\n",
       "      <td>99.826010</td>\n",
       "      <td>99.467274</td>\n",
       "      <td>99.797032</td>\n",
       "      <td>99.809070</td>\n",
       "      <td>99.633651</td>\n",
       "      <td>99.659173</td>\n",
       "      <td>99.629186</td>\n",
       "      <td>99.755037</td>\n",
       "      <td>99.652855</td>\n",
       "      <td>99.510676</td>\n",
       "    </tr>\n",
       "    <tr>\n",
       "      <th>3</th>\n",
       "      <td>4</td>\n",
       "      <td>99.803423</td>\n",
       "      <td>99.928232</td>\n",
       "      <td>98.918417</td>\n",
       "      <td>99.800165</td>\n",
       "      <td>99.752134</td>\n",
       "      <td>99.421733</td>\n",
       "      <td>99.852956</td>\n",
       "      <td>99.026447</td>\n",
       "      <td>99.734191</td>\n",
       "      <td>...</td>\n",
       "      <td>99.866882</td>\n",
       "      <td>99.486758</td>\n",
       "      <td>99.841778</td>\n",
       "      <td>99.875729</td>\n",
       "      <td>99.749753</td>\n",
       "      <td>99.774811</td>\n",
       "      <td>99.713198</td>\n",
       "      <td>99.747142</td>\n",
       "      <td>99.786915</td>\n",
       "      <td>99.657076</td>\n",
       "    </tr>\n",
       "    <tr>\n",
       "      <th>4</th>\n",
       "      <td>5</td>\n",
       "      <td>99.843832</td>\n",
       "      <td>99.799412</td>\n",
       "      <td>99.077594</td>\n",
       "      <td>99.840954</td>\n",
       "      <td>99.774731</td>\n",
       "      <td>99.512775</td>\n",
       "      <td>99.894304</td>\n",
       "      <td>99.069002</td>\n",
       "      <td>99.761604</td>\n",
       "      <td>...</td>\n",
       "      <td>99.900026</td>\n",
       "      <td>99.568531</td>\n",
       "      <td>99.876375</td>\n",
       "      <td>99.875282</td>\n",
       "      <td>99.728598</td>\n",
       "      <td>99.828058</td>\n",
       "      <td>99.756571</td>\n",
       "      <td>99.779091</td>\n",
       "      <td>99.779273</td>\n",
       "      <td>99.692592</td>\n",
       "    </tr>\n",
       "  </tbody>\n",
       "</table>\n",
       "<p>5 rows × 3870 columns</p>\n",
       "</div>"
      ],
      "text/plain": [
       "   Cycle     cell_1     cell_2     cell_5     cell_7     cell_8    cell_10  \\\n",
       "0      1  99.607672  99.484639  98.947794  99.612444  99.392467  99.341443   \n",
       "1      2  99.688508  99.751377  98.911719  99.701216  99.572856  99.344383   \n",
       "2      3  99.741355  99.837514  99.161672  99.755267  99.634020  99.516591   \n",
       "3      4  99.803423  99.928232  98.918417  99.800165  99.752134  99.421733   \n",
       "4      5  99.843832  99.799412  99.077594  99.840954  99.774731  99.512775   \n",
       "\n",
       "     cell_11    cell_12    cell_13  ...  cell_9955  cell_9959  cell_9960  \\\n",
       "0  99.660718  99.031591  99.335847  ...  99.659415  99.302792  99.660961   \n",
       "1  99.781588  99.028332  99.532882  ...  99.771815  99.512837  99.753045   \n",
       "2  99.800258  99.049357  99.667452  ...  99.826010  99.467274  99.797032   \n",
       "3  99.852956  99.026447  99.734191  ...  99.866882  99.486758  99.841778   \n",
       "4  99.894304  99.069002  99.761604  ...  99.900026  99.568531  99.876375   \n",
       "\n",
       "   cell_9965  cell_9968  cell_9975  cell_9977  cell_9984  cell_9985  cell_9988  \n",
       "0  99.724218  99.469678  99.401052  99.448940  99.707820  99.242798  99.060282  \n",
       "1  99.794658  99.511943  99.616646  99.557055  99.730659  99.533491  99.413587  \n",
       "2  99.809070  99.633651  99.659173  99.629186  99.755037  99.652855  99.510676  \n",
       "3  99.875729  99.749753  99.774811  99.713198  99.747142  99.786915  99.657076  \n",
       "4  99.875282  99.728598  99.828058  99.756571  99.779091  99.779273  99.692592  \n",
       "\n",
       "[5 rows x 3870 columns]"
      ]
     },
     "execution_count": 13,
     "metadata": {},
     "output_type": "execute_result"
    }
   ],
   "source": [
    "df_physical.head()"
   ]
  },
  {
   "cell_type": "markdown",
   "id": "eb9d967e-3de2-4c63-9bc2-9c7f5a8198cd",
   "metadata": {},
   "source": [
    "Plot first 19 cycles"
   ]
  },
  {
   "cell_type": "code",
   "execution_count": 14,
   "id": "caf56036-281a-44e2-9cb8-0cb1725fad3e",
   "metadata": {},
   "outputs": [
    {
     "data": {
      "text/plain": [
       "<Axes: xlabel='Cycle'>"
      ]
     },
     "execution_count": 14,
     "metadata": {},
     "output_type": "execute_result"
    },
    {
     "data": {
      "image/png": "[encoded data removed]",
      "text/plain": [
       "<Figure size 640x480 with 1 Axes>"
      ]
     },
     "metadata": {},
     "output_type": "display_data"
    }
   ],
   "source": [
    "df_physical.iloc[:,:20].plot(x = 'Cycle')"
   ]
  },
  {
   "cell_type": "code",
   "execution_count": 15,
   "id": "77b56a6e-c74a-45b6-85b9-029f859845f6",
   "metadata": {},
   "outputs": [],
   "source": [
    "def pad_sequences_to_length(sequences, target_length, pad_value=0):\n",
    "    \"\"\"\n",
    "    Pad a list of sequences to a given target length.\n",
    "\n",
    "    Args:\n",
    "        sequences (list of Tensor): The list of tensor sequences.\n",
    "        target_length (int): The fixed length to pad/truncate each sequence.\n",
    "        pad_value (int): The value used for padding.\n",
    "\n",
    "    Returns:\n",
    "        Tensor: A tensor containing padded sequences with shape (batch_size, target_length).\n",
    "    \"\"\"\n",
    "    # Create a new tensor to hold the padded sequences\n",
    "    padded_sequences = torch.full((len(sequences), target_length), pad_value, dtype=sequences[0].dtype)\n",
    "\n",
    "    # Iterate through each sequence and pad/truncate to the target length\n",
    "    for i, seq in enumerate(sequences):\n",
    "        end_idx = min(len(seq), target_length)\n",
    "        padded_sequences[i, :end_idx] = seq[:end_idx]\n",
    "\n",
    "    return padded_sequences"
   ]
  },
  {
   "cell_type": "code",
   "execution_count": 16,
   "id": "6e3ebd35-ab74-417f-930d-6830d64b24be",
   "metadata": {},
   "outputs": [],
   "source": [
    "physical_cols = list(df_physical.columns[1:])"
   ]
  },
  {
   "cell_type": "code",
   "execution_count": 17,
   "id": "c9b371f2-7c2b-45bb-830a-28b03011e71d",
   "metadata": {},
   "outputs": [],
   "source": [
    "physical_sequences = torch.Tensor(df_physical.iloc[:,1:].values.T)"
   ]
  },
  {
   "cell_type": "code",
   "execution_count": 18,
   "id": "2859f4c0-57db-4400-80f2-0b721a1a0b42",
   "metadata": {},
   "outputs": [],
   "source": [
    "target_length = PHYSICAL_SEQ_LEN  # For example, pad all sequences to length 5\n",
    "\n",
    "# Pad sequences\n",
    "padded_sequences = pad_sequences_to_length(physical_sequences, target_length)"
   ]
  },
  {
   "cell_type": "code",
   "execution_count": 19,
   "id": "7e2e3f5f-0317-41ef-a03a-8e4656313a38",
   "metadata": {},
   "outputs": [],
   "source": [
    "group_id_mapping = {k: df_operational.Battery.unique()[k] for k in range(0, df_operational.Battery.nunique())}"
   ]
  },
  {
   "cell_type": "code",
   "execution_count": 20,
   "id": "5992cf8f-c140-4cd0-85b0-770f25ed95ee",
   "metadata": {},
   "outputs": [],
   "source": [
    "# Open and read the JSON file\n",
    "with open('data/sev_gen_mapping.json', 'r') as file:\n",
    "    mappings = json.load(file)"
   ]
  },
  {
   "cell_type": "code",
   "execution_count": 21,
   "id": "5c205751-2e65-4b5c-86d7-c8a77fbae770",
   "metadata": {},
   "outputs": [],
   "source": [
    "group_emb_map = {k: padded_sequences[physical_cols.index(mappings[group_id_mapping[k]])] for k in group_id_mapping.keys()}"
   ]
  },
  {
   "cell_type": "code",
   "execution_count": 22,
   "id": "6acfd932-cfb4-40b6-ac23-1103d50538ef",
   "metadata": {},
   "outputs": [],
   "source": [
    "tensor_list = [group_emb_map[i] for i in sorted(group_emb_map)]"
   ]
  },
  {
   "cell_type": "markdown",
   "id": "97392f3b-8318-4c54-b4a5-930f72d80975",
   "metadata": {},
   "source": [
    "## Load Weights"
   ]
  },
  {
   "cell_type": "code",
   "execution_count": 23,
   "id": "10a6e3fe-80cb-42a7-a153-605bbc030987",
   "metadata": {},
   "outputs": [
    {
     "name": "stderr",
     "output_type": "stream",
     "text": [
      "/Users/jamessadler/Library/Python/3.9/lib/python/site-packages/lightning/pytorch/utilities/parsing.py:198: Attribute 'loss' is an instance of `nn.Module` and is already saved during checkpointing. It is recommended to ignore them using `self.save_hyperparameters(ignore=['loss'])`.\n",
      "/Users/jamessadler/Library/Python/3.9/lib/python/site-packages/lightning/pytorch/utilities/parsing.py:198: Attribute 'logging_metrics' is an instance of `nn.Module` and is already saved during checkpointing. It is recommended to ignore them using `self.save_hyperparameters(ignore=['logging_metrics'])`.\n"
     ]
    }
   ],
   "source": [
    "model = ACCEPT(embed_dim=100, training_operational = training_op)"
   ]
  },
  {
   "cell_type": "code",
   "execution_count": 24,
   "id": "b809e80f-fbb4-4412-b890-9c62f12b7d78",
   "metadata": {},
   "outputs": [],
   "source": [
    "state_dict = torch.load('accept/weights/weights.pth', map_location=torch.device('cpu'))"
   ]
  },
  {
   "cell_type": "code",
   "execution_count": 25,
   "id": "66005625-c242-4cb4-9602-f9567520d58f",
   "metadata": {},
   "outputs": [
    {
     "data": {
      "text/plain": [
       "<All keys matched successfully>"
      ]
     },
     "execution_count": 25,
     "metadata": {},
     "output_type": "execute_result"
    }
   ],
   "source": [
    "model.load_state_dict(state_dict)"
   ]
  },
  {
   "cell_type": "markdown",
   "id": "01996c9f-0af6-4c50-8985-8750b27c7f71",
   "metadata": {},
   "source": [
    "## Testing Data"
   ]
  },
  {
   "cell_type": "code",
   "execution_count": 26,
   "id": "e21497d7-515d-4500-b916-035ce904d16f",
   "metadata": {},
   "outputs": [
    {
     "data": {
      "text/html": [
       "<div>\n",
       "<style scoped>\n",
       "    .dataframe tbody tr th:only-of-type {\n",
       "        vertical-align: middle;\n",
       "    }\n",
       "\n",
       "    .dataframe tbody tr th {\n",
       "        vertical-align: top;\n",
       "    }\n",
       "\n",
       "    .dataframe thead th {\n",
       "        text-align: right;\n",
       "    }\n",
       "</style>\n",
       "<table border=\"1\" class=\"dataframe\">\n",
       "  <thead>\n",
       "    <tr style=\"text-align: right;\">\n",
       "      <th></th>\n",
       "      <th>Battery</th>\n",
       "      <th>Cycle</th>\n",
       "      <th>v_d_mean</th>\n",
       "      <th>v_c_mean</th>\n",
       "      <th>v_d_std</th>\n",
       "      <th>v_c_std</th>\n",
       "      <th>dod</th>\n",
       "      <th>cur_d_mean</th>\n",
       "      <th>cur_c_mean</th>\n",
       "      <th>cur_d_std</th>\n",
       "      <th>...</th>\n",
       "      <th>T_c_std</th>\n",
       "      <th>T_d_min</th>\n",
       "      <th>T_c_min</th>\n",
       "      <th>T_d_max</th>\n",
       "      <th>T_c_max</th>\n",
       "      <th>QD</th>\n",
       "      <th>Type</th>\n",
       "      <th>Capacity</th>\n",
       "      <th>QD_</th>\n",
       "      <th>QD_Target</th>\n",
       "    </tr>\n",
       "  </thead>\n",
       "  <tbody>\n",
       "    <tr>\n",
       "      <th>20868</th>\n",
       "      <td>b1c_0_10</td>\n",
       "      <td>1</td>\n",
       "      <td>2.723133</td>\n",
       "      <td>3.410184</td>\n",
       "      <td>0.506106</td>\n",
       "      <td>0.268454</td>\n",
       "      <td>-1.421978</td>\n",
       "      <td>-3.188874</td>\n",
       "      <td>2.338535</td>\n",
       "      <td>1.519398</td>\n",
       "      <td>...</td>\n",
       "      <td>0.973579</td>\n",
       "      <td>30.828300</td>\n",
       "      <td>29.914324</td>\n",
       "      <td>34.201159</td>\n",
       "      <td>33.999775</td>\n",
       "      <td>1.108190</td>\n",
       "      <td>APR18650M1A</td>\n",
       "      <td>1.1</td>\n",
       "      <td>1.10819</td>\n",
       "      <td>100.000000</td>\n",
       "    </tr>\n",
       "    <tr>\n",
       "      <th>20869</th>\n",
       "      <td>b1c_0_10</td>\n",
       "      <td>2</td>\n",
       "      <td>2.730126</td>\n",
       "      <td>3.417162</td>\n",
       "      <td>0.504182</td>\n",
       "      <td>0.254523</td>\n",
       "      <td>-1.395634</td>\n",
       "      <td>-3.205540</td>\n",
       "      <td>2.349137</td>\n",
       "      <td>1.503446</td>\n",
       "      <td>...</td>\n",
       "      <td>0.813991</td>\n",
       "      <td>30.429403</td>\n",
       "      <td>30.046880</td>\n",
       "      <td>33.029738</td>\n",
       "      <td>33.431090</td>\n",
       "      <td>1.109278</td>\n",
       "      <td>APR18650M1A</td>\n",
       "      <td>1.1</td>\n",
       "      <td>1.10819</td>\n",
       "      <td>100.098223</td>\n",
       "    </tr>\n",
       "    <tr>\n",
       "      <th>20870</th>\n",
       "      <td>b1c_0_10</td>\n",
       "      <td>3</td>\n",
       "      <td>2.733170</td>\n",
       "      <td>3.412501</td>\n",
       "      <td>0.502937</td>\n",
       "      <td>0.260055</td>\n",
       "      <td>-1.383670</td>\n",
       "      <td>-3.214302</td>\n",
       "      <td>2.364543</td>\n",
       "      <td>1.496002</td>\n",
       "      <td>...</td>\n",
       "      <td>0.702400</td>\n",
       "      <td>30.182175</td>\n",
       "      <td>30.491040</td>\n",
       "      <td>34.004902</td>\n",
       "      <td>33.984958</td>\n",
       "      <td>1.110096</td>\n",
       "      <td>APR18650M1A</td>\n",
       "      <td>1.1</td>\n",
       "      <td>1.10819</td>\n",
       "      <td>100.171983</td>\n",
       "    </tr>\n",
       "    <tr>\n",
       "      <th>20871</th>\n",
       "      <td>b1c_0_10</td>\n",
       "      <td>4</td>\n",
       "      <td>2.734863</td>\n",
       "      <td>3.420053</td>\n",
       "      <td>0.503401</td>\n",
       "      <td>0.249591</td>\n",
       "      <td>-1.378289</td>\n",
       "      <td>-3.211908</td>\n",
       "      <td>2.358275</td>\n",
       "      <td>1.497503</td>\n",
       "      <td>...</td>\n",
       "      <td>0.923536</td>\n",
       "      <td>30.451065</td>\n",
       "      <td>29.761333</td>\n",
       "      <td>33.932159</td>\n",
       "      <td>33.571255</td>\n",
       "      <td>1.109450</td>\n",
       "      <td>APR18650M1A</td>\n",
       "      <td>1.1</td>\n",
       "      <td>1.10819</td>\n",
       "      <td>100.113690</td>\n",
       "    </tr>\n",
       "    <tr>\n",
       "      <th>20872</th>\n",
       "      <td>b1c_0_10</td>\n",
       "      <td>5</td>\n",
       "      <td>2.736396</td>\n",
       "      <td>3.405882</td>\n",
       "      <td>0.504082</td>\n",
       "      <td>0.271837</td>\n",
       "      <td>-1.373971</td>\n",
       "      <td>-3.213997</td>\n",
       "      <td>2.352498</td>\n",
       "      <td>1.493993</td>\n",
       "      <td>...</td>\n",
       "      <td>0.726197</td>\n",
       "      <td>30.171482</td>\n",
       "      <td>29.649578</td>\n",
       "      <td>34.044601</td>\n",
       "      <td>32.693182</td>\n",
       "      <td>1.110943</td>\n",
       "      <td>APR18650M1A</td>\n",
       "      <td>1.1</td>\n",
       "      <td>1.10819</td>\n",
       "      <td>100.248432</td>\n",
       "    </tr>\n",
       "  </tbody>\n",
       "</table>\n",
       "<p>5 rows × 24 columns</p>\n",
       "</div>"
      ],
      "text/plain": [
       "        Battery  Cycle  v_d_mean  v_c_mean   v_d_std   v_c_std       dod  \\\n",
       "20868  b1c_0_10      1  2.723133  3.410184  0.506106  0.268454 -1.421978   \n",
       "20869  b1c_0_10      2  2.730126  3.417162  0.504182  0.254523 -1.395634   \n",
       "20870  b1c_0_10      3  2.733170  3.412501  0.502937  0.260055 -1.383670   \n",
       "20871  b1c_0_10      4  2.734863  3.420053  0.503401  0.249591 -1.378289   \n",
       "20872  b1c_0_10      5  2.736396  3.405882  0.504082  0.271837 -1.373971   \n",
       "\n",
       "       cur_d_mean  cur_c_mean  cur_d_std  ...   T_c_std    T_d_min    T_c_min  \\\n",
       "20868   -3.188874    2.338535   1.519398  ...  0.973579  30.828300  29.914324   \n",
       "20869   -3.205540    2.349137   1.503446  ...  0.813991  30.429403  30.046880   \n",
       "20870   -3.214302    2.364543   1.496002  ...  0.702400  30.182175  30.491040   \n",
       "20871   -3.211908    2.358275   1.497503  ...  0.923536  30.451065  29.761333   \n",
       "20872   -3.213997    2.352498   1.493993  ...  0.726197  30.171482  29.649578   \n",
       "\n",
       "         T_d_max    T_c_max        QD         Type  Capacity      QD_  \\\n",
       "20868  34.201159  33.999775  1.108190  APR18650M1A       1.1  1.10819   \n",
       "20869  33.029738  33.431090  1.109278  APR18650M1A       1.1  1.10819   \n",
       "20870  34.004902  33.984958  1.110096  APR18650M1A       1.1  1.10819   \n",
       "20871  33.932159  33.571255  1.109450  APR18650M1A       1.1  1.10819   \n",
       "20872  34.044601  32.693182  1.110943  APR18650M1A       1.1  1.10819   \n",
       "\n",
       "        QD_Target  \n",
       "20868  100.000000  \n",
       "20869  100.098223  \n",
       "20870  100.171983  \n",
       "20871  100.113690  \n",
       "20872  100.248432  \n",
       "\n",
       "[5 rows x 24 columns]"
      ]
     },
     "execution_count": 26,
     "metadata": {},
     "output_type": "execute_result"
    }
   ],
   "source": [
    "test_df.head()"
   ]
  },
  {
   "cell_type": "code",
   "execution_count": 27,
   "id": "7dadb11f-594c-4a87-81f1-5ebcef717934",
   "metadata": {},
   "outputs": [
    {
     "name": "stderr",
     "output_type": "stream",
     "text": [
      "/Users/jamessadler/Library/Python/3.9/lib/python/site-packages/pytorch_forecasting/data/timeseries.py:1281: UserWarning: Min encoder length and/or min_prediction_idx and/or min prediction length and/or lags are too large for 1 series/groups which therefore are not present in the dataset index. This means no predictions can be made for those series. First 10 removed groups: [{'__group_id__Battery': 'b1c_0_38'}]\n",
      "  warnings.warn(\n"
     ]
    }
   ],
   "source": [
    "testing_op = TimeSeriesDataSet(\n",
    "    test_df,\n",
    "    time_idx=\"Cycle\",\n",
    "    target=\"QD_Target\",\n",
    "    group_ids=[\"Battery\"],\n",
    "    static_categoricals = ['Type'],\n",
    "    static_reals = ['Capacity'],\n",
    "    min_encoder_length=min_encoder_length,  # keep encoder length long (as it is in the validation set)\n",
    "    max_encoder_length=max_encoder_length,\n",
    "    min_prediction_length=min_prediction_length,\n",
    "    max_prediction_length=max_prediction_length,\n",
    "    time_varying_unknown_categoricals=[],\n",
    "    time_varying_unknown_reals=df_operational.iloc[:, 2:-4].columns.to_list(),\n",
    "    add_relative_time_idx=True,\n",
    "    add_target_scales=False,\n",
    "    add_encoder_length=False,\n",
    "    allow_missing_timesteps = True\n",
    ")"
   ]
  },
  {
   "cell_type": "code",
   "execution_count": 28,
   "id": "aa5847b5-2f3d-4bba-9c24-990925f334c4",
   "metadata": {},
   "outputs": [],
   "source": [
    "test_dataloader = testing_op.to_dataloader(train=False, batch_size=batch_size, num_workers=0)"
   ]
  },
  {
   "cell_type": "code",
   "execution_count": 29,
   "id": "ccf8439f-82d9-4053-b38b-cf4ef033aeb5",
   "metadata": {},
   "outputs": [
    {
     "data": {
      "text/plain": [
       "319"
      ]
     },
     "execution_count": 29,
     "metadata": {},
     "output_type": "execute_result"
    }
   ],
   "source": [
    "len(test_dataloader) # no. of batches"
   ]
  },
  {
   "cell_type": "code",
   "execution_count": 30,
   "id": "e925b1a3-382f-4795-8be1-7dbe1ff89f00",
   "metadata": {},
   "outputs": [],
   "source": [
    "operational = next(iter(test_dataloader)) # First batch"
   ]
  },
  {
   "cell_type": "code",
   "execution_count": 31,
   "id": "96d41946-9ae3-4fac-b686-f7de2179242f",
   "metadata": {},
   "outputs": [],
   "source": [
    "device = torch.device(\"cuda\" if torch.cuda.is_available() else \"cpu\")"
   ]
  },
  {
   "cell_type": "code",
   "execution_count": 32,
   "id": "e137bf25-c0af-406b-ad76-4dfee019d3b4",
   "metadata": {},
   "outputs": [],
   "source": [
    "operational = operational[0] # just need the features rather than the target\n",
    "operational = {k: v.to(device) for k, v in operational.items()}\n",
    "# Fetch real physically generated curves and append them to list\n",
    "groups = operational['groups']\n",
    "target_tensors_physical = torch.stack([tensor_list[i] for i in groups[:,0]])\n",
    "\n",
    "target_tensors_physical = target_tensors_physical.unsqueeze(2)\n",
    "target_tensors_physical = target_tensors_physical.to(device)"
   ]
  },
  {
   "cell_type": "code",
   "execution_count": 33,
   "id": "356607a7-c566-44f2-88bf-f2d5e5b7173d",
   "metadata": {},
   "outputs": [],
   "source": [
    "padded_sequences = padded_sequences.unsqueeze(2).to(device)"
   ]
  },
  {
   "cell_type": "code",
   "execution_count": null,
   "id": "58585977-bd50-463b-9fc7-72e375708833",
   "metadata": {},
   "outputs": [],
   "source": [
    "# Compute Features\n",
    "operational_features = model.encode_operational(operational)\n",
    "physical_features = model.encode_physical(padded_sequences)\n",
    "logit_scale = model.logit_scale.exp()\n",
    "\n",
    "# Normalize features\n",
    "operational_features = F.normalize(operational_features, dim=1)\n",
    "physical_features = F.normalize(physical_features, dim=1)\n",
    "\n",
    "# Cosine similarity (Image Features & Location Features)\n",
    "logits_per_operational = logit_scale * (operational_features @ physical_features.t())"
   ]
  },
  {
   "cell_type": "code",
   "execution_count": null,
   "id": "018e77f2-f915-42f5-bd97-a566d9c5f13a",
   "metadata": {},
   "outputs": [],
   "source": []
  },
  {
   "cell_type": "code",
   "execution_count": null,
   "id": "4847d6ce-8bb3-4399-86b1-24a3a9680868",
   "metadata": {},
   "outputs": [],
   "source": []
  },
  {
   "cell_type": "code",
   "execution_count": null,
   "id": "9469a2cb-aeea-4864-9a6f-fba50807469e",
   "metadata": {},
   "outputs": [],
   "source": [
    "logits_per_operational"
   ]
  },
  {
   "cell_type": "code",
   "execution_count": null,
   "id": "d87853a7-1014-4882-aadf-cc9fae0d42fa",
   "metadata": {},
   "outputs": [],
   "source": []
  },
  {
   "cell_type": "code",
   "execution_count": null,
   "id": "7e33d1f5-1c9e-47a3-af42-23b294b2a739",
   "metadata": {},
   "outputs": [],
   "source": []
  },
  {
   "cell_type": "code",
   "execution_count": null,
   "id": "d567aee6-c9ed-437a-92ff-b2ca7b6923e5",
   "metadata": {},
   "outputs": [],
   "source": []
  }
 ],
 "metadata": {
  "kernelspec": {
   "display_name": "Python 3 (ipykernel)",
   "language": "python",
   "name": "python3"
  },
  "language_info": {
   "codemirror_mode": {
    "name": "ipython",
    "version": 3
   },
   "file_extension": ".py",
   "mimetype": "text/x-python",
   "name": "python",
   "nbconvert_exporter": "python",
   "pygments_lexer": "ipython3",
   "version": "3.9.6"
  }
 },
 "nbformat": 4,
 "nbformat_minor": 5
}
